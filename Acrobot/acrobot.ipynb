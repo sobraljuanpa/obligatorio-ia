{
 "cells": [
  {
   "cell_type": "code",
   "execution_count": null,
   "metadata": {},
   "outputs": [],
   "source": [
    "import numpy as np\n",
    "from acrobot_env_extended import AcrobotEnvExtended\n",
    "import random "
   ]
  },
  {
   "cell_type": "code",
   "execution_count": null,
   "metadata": {},
   "outputs": [],
   "source": [
    "env = AcrobotEnvExtended(render_mode='rgb_array')"
   ]
  },
  {
   "cell_type": "code",
   "execution_count": null,
   "metadata": {},
   "outputs": [],
   "source": [
    "cost1_space = np.linspace(-1, 1, 5)\n",
    "sint1_space = np.linspace(-1, 1, 5)\n",
    "cost2_space = np.linspace(-1, 1, 10)\n",
    "sint2_space = np.linspace(-1, 1, 10)\n",
    "velt1_space = np.linspace(-12.57, 12.57, 30)\n",
    "velt2_space = np.linspace(-28.27, 28.27, 20)"
   ]
  },
  {
   "cell_type": "code",
   "execution_count": null,
   "metadata": {},
   "outputs": [],
   "source": [
    "def get_state(obs):\n",
    "    c1,s1,c2,s2,vt1,vt2 = obs\n",
    "    c1_bin = np.digitize(c1, cost1_space)\n",
    "    s1_bin = np.digitize(s1, sint1_space)\n",
    "    c2_bin = np.digitize(c2, cost2_space)\n",
    "    s2_bin = np.digitize(s2, sint2_space)\n",
    "    vt1_bin = np.digitize(vt1, velt1_space)\n",
    "    vt2_bin = np.digitize(vt2, velt2_space)\n",
    "    return c1_bin, s1_bin,c2_bin,s2_bin,vt1_bin,vt2_bin"
   ]
  },
  {
   "cell_type": "code",
   "execution_count": null,
   "metadata": {},
   "outputs": [],
   "source": [
    "state = get_state(np.array([-0.4, 0.2, 0.3, 0.4, 0.5, 0.6]))\n",
    "state"
   ]
  },
  {
   "cell_type": "code",
   "execution_count": null,
   "metadata": {},
   "outputs": [],
   "source": [
    "actions = list(range(env.action_space.n))\n",
    "actions"
   ]
  },
  {
   "cell_type": "code",
   "execution_count": null,
   "metadata": {},
   "outputs": [],
   "source": [
    "Q = np.zeros((len(cost1_space)+1, len(sint1_space)+1, len(cost2_space)+1, len(sint2_space)+1, len(velt1_space)+1, len(velt2_space)+1, len(actions)))\n",
    "Q"
   ]
  },
  {
   "cell_type": "code",
   "execution_count": null,
   "metadata": {},
   "outputs": [],
   "source": [
    "def optimal_policy(state, Q):\n",
    "    action = np.argmax(Q[state])\n",
    "    return action"
   ]
  },
  {
   "cell_type": "code",
   "execution_count": null,
   "metadata": {},
   "outputs": [],
   "source": [
    "def epsilon_greedy_policy(state, Q, epsilon=0.1):\n",
    "    explore = np.random.binomial(1, epsilon)\n",
    "    if explore:\n",
    "        action = env.action_space.sample()\n",
    "        print('explore')\n",
    "    # exploit\n",
    "    else:\n",
    "        action = np.argmax(Q[state])\n",
    "        print('exploit')\n",
    "        \n",
    "    return action"
   ]
  },
  {
   "cell_type": "code",
   "execution_count": null,
   "metadata": {},
   "outputs": [],
   "source": [
    "obs,_ = env.reset()\n",
    "print(obs)\n",
    "done = False\n",
    "episode_reward = 0\n",
    "while not done:\n",
    "    state = get_state(obs)\n",
    "    action = epsilon_greedy_policy(state, Q, 0.5)\n",
    "    obs, reward, done, _, _ = env.step(action)\n",
    "    episode_reward += reward\n",
    "    print('->', state, action, reward, obs, done)\n",
    "    env.render()\n",
    "episode_reward"
   ]
  }
 ],
 "metadata": {
  "kernelspec": {
   "display_name": "Python 3",
   "language": "python",
   "name": "python3"
  },
  "language_info": {
   "codemirror_mode": {
    "name": "ipython",
    "version": 3
   },
   "file_extension": ".py",
   "mimetype": "text/x-python",
   "name": "python",
   "nbconvert_exporter": "python",
   "pygments_lexer": "ipython3",
   "version": "3.11.4"
  },
  "orig_nbformat": 4
 },
 "nbformat": 4,
 "nbformat_minor": 2
}
