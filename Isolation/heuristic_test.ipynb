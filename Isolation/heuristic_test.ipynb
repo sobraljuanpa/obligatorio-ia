{
 "cells": [
  {
   "cell_type": "code",
   "execution_count": 1,
   "metadata": {},
   "outputs": [],
   "source": [
    "from isolation_env import IsolationEnv\n",
    "from stratagem import Stratagem\n",
    "from play import play_vs_other_agent_and_accumulate_results"
   ]
  },
  {
   "cell_type": "code",
   "execution_count": 2,
   "metadata": {},
   "outputs": [
    {
     "name": "stdout",
     "output_type": "stream",
     "text": [
      "Agent 1 wins: 325\n",
      "Agent 2 wins: 675\n"
     ]
    }
   ],
   "source": [
    "from heuristic_agent import HeuristicAgent\n",
    "\n",
    "\n",
    "env = IsolationEnv()\n",
    "env.action_space\n",
    "\n",
    "play_vs_other_agent_and_accumulate_results(env, HeuristicAgent(1), Stratagem(2), 1000)\n"
   ]
  }
 ],
 "metadata": {
  "kernelspec": {
   "display_name": "Python 3",
   "language": "python",
   "name": "python3"
  },
  "language_info": {
   "codemirror_mode": {
    "name": "ipython",
    "version": 3
   },
   "file_extension": ".py",
   "mimetype": "text/x-python",
   "name": "python",
   "nbconvert_exporter": "python",
   "pygments_lexer": "ipython3",
   "version": "3.11.4"
  }
 },
 "nbformat": 4,
 "nbformat_minor": 2
}
